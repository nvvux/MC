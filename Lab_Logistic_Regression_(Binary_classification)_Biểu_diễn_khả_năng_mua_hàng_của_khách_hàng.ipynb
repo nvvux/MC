{
  "nbformat": 4,
  "nbformat_minor": 0,
  "metadata": {
    "colab": {
      "provenance": []
    },
    "kernelspec": {
      "name": "python3",
      "display_name": "Python 3"
    },
    "language_info": {
      "name": "python"
    }
  },
  "cells": [
    {
      "cell_type": "code",
      "execution_count": null,
      "metadata": {
        "colab": {
          "base_uri": "https://localhost:8080/"
        },
        "id": "KWo3-mlM_VpK",
        "outputId": "5793a5cc-ea8c-4f3a-a495-4dd1863600c0"
      },
      "outputs": [
        {
          "output_type": "stream",
          "name": "stdout",
          "text": [
            "      User ID  Gender  Age  EstimatedSalary  Purchased\n",
            "0    15624510    Male   19            19000          0\n",
            "1    15810944    Male   35            20000          0\n",
            "2    15668575  Female   26            43000          0\n",
            "3    15603246  Female   27            57000          0\n",
            "4    15804002    Male   19            76000          0\n",
            "..        ...     ...  ...              ...        ...\n",
            "395  15691863  Female   46            41000          1\n",
            "396  15706071    Male   51            23000          1\n",
            "397  15654296  Female   50            20000          1\n",
            "398  15755018    Male   36            33000          0\n",
            "399  15594041  Female   49            36000          1\n",
            "\n",
            "[400 rows x 5 columns]\n"
          ]
        }
      ],
      "source": [
        "import numpy as np\n",
        "import pandas as pd\n",
        "import matplotlib.pyplot as plt\n",
        "data = pd.read_csv(\"Social_Network_Ads.csv\")\n",
        "\n",
        "print(data)"
      ]
    },
    {
      "cell_type": "code",
      "source": [
        "data.head(10)"
      ],
      "metadata": {
        "colab": {
          "base_uri": "https://localhost:8080/",
          "height": 363
        },
        "id": "TupGl8sQBFeI",
        "outputId": "e1d29252-81c3-4619-8e9d-a0bf24848be9"
      },
      "execution_count": null,
      "outputs": [
        {
          "output_type": "execute_result",
          "data": {
            "text/plain": [
              "    User ID  Gender  Age  EstimatedSalary  Purchased\n",
              "0  15624510    Male   19            19000          0\n",
              "1  15810944    Male   35            20000          0\n",
              "2  15668575  Female   26            43000          0\n",
              "3  15603246  Female   27            57000          0\n",
              "4  15804002    Male   19            76000          0\n",
              "5  15728773    Male   27            58000          0\n",
              "6  15598044  Female   27            84000          0\n",
              "7  15694829  Female   32           150000          1\n",
              "8  15600575    Male   25            33000          0\n",
              "9  15727311  Female   35            65000          0"
            ],
            "text/html": [
              "\n",
              "  <div id=\"df-f980fa53-9986-4cfa-b395-9a13de3e41c5\" class=\"colab-df-container\">\n",
              "    <div>\n",
              "<style scoped>\n",
              "    .dataframe tbody tr th:only-of-type {\n",
              "        vertical-align: middle;\n",
              "    }\n",
              "\n",
              "    .dataframe tbody tr th {\n",
              "        vertical-align: top;\n",
              "    }\n",
              "\n",
              "    .dataframe thead th {\n",
              "        text-align: right;\n",
              "    }\n",
              "</style>\n",
              "<table border=\"1\" class=\"dataframe\">\n",
              "  <thead>\n",
              "    <tr style=\"text-align: right;\">\n",
              "      <th></th>\n",
              "      <th>User ID</th>\n",
              "      <th>Gender</th>\n",
              "      <th>Age</th>\n",
              "      <th>EstimatedSalary</th>\n",
              "      <th>Purchased</th>\n",
              "    </tr>\n",
              "  </thead>\n",
              "  <tbody>\n",
              "    <tr>\n",
              "      <th>0</th>\n",
              "      <td>15624510</td>\n",
              "      <td>Male</td>\n",
              "      <td>19</td>\n",
              "      <td>19000</td>\n",
              "      <td>0</td>\n",
              "    </tr>\n",
              "    <tr>\n",
              "      <th>1</th>\n",
              "      <td>15810944</td>\n",
              "      <td>Male</td>\n",
              "      <td>35</td>\n",
              "      <td>20000</td>\n",
              "      <td>0</td>\n",
              "    </tr>\n",
              "    <tr>\n",
              "      <th>2</th>\n",
              "      <td>15668575</td>\n",
              "      <td>Female</td>\n",
              "      <td>26</td>\n",
              "      <td>43000</td>\n",
              "      <td>0</td>\n",
              "    </tr>\n",
              "    <tr>\n",
              "      <th>3</th>\n",
              "      <td>15603246</td>\n",
              "      <td>Female</td>\n",
              "      <td>27</td>\n",
              "      <td>57000</td>\n",
              "      <td>0</td>\n",
              "    </tr>\n",
              "    <tr>\n",
              "      <th>4</th>\n",
              "      <td>15804002</td>\n",
              "      <td>Male</td>\n",
              "      <td>19</td>\n",
              "      <td>76000</td>\n",
              "      <td>0</td>\n",
              "    </tr>\n",
              "    <tr>\n",
              "      <th>5</th>\n",
              "      <td>15728773</td>\n",
              "      <td>Male</td>\n",
              "      <td>27</td>\n",
              "      <td>58000</td>\n",
              "      <td>0</td>\n",
              "    </tr>\n",
              "    <tr>\n",
              "      <th>6</th>\n",
              "      <td>15598044</td>\n",
              "      <td>Female</td>\n",
              "      <td>27</td>\n",
              "      <td>84000</td>\n",
              "      <td>0</td>\n",
              "    </tr>\n",
              "    <tr>\n",
              "      <th>7</th>\n",
              "      <td>15694829</td>\n",
              "      <td>Female</td>\n",
              "      <td>32</td>\n",
              "      <td>150000</td>\n",
              "      <td>1</td>\n",
              "    </tr>\n",
              "    <tr>\n",
              "      <th>8</th>\n",
              "      <td>15600575</td>\n",
              "      <td>Male</td>\n",
              "      <td>25</td>\n",
              "      <td>33000</td>\n",
              "      <td>0</td>\n",
              "    </tr>\n",
              "    <tr>\n",
              "      <th>9</th>\n",
              "      <td>15727311</td>\n",
              "      <td>Female</td>\n",
              "      <td>35</td>\n",
              "      <td>65000</td>\n",
              "      <td>0</td>\n",
              "    </tr>\n",
              "  </tbody>\n",
              "</table>\n",
              "</div>\n",
              "    <div class=\"colab-df-buttons\">\n",
              "\n",
              "  <div class=\"colab-df-container\">\n",
              "    <button class=\"colab-df-convert\" onclick=\"convertToInteractive('df-f980fa53-9986-4cfa-b395-9a13de3e41c5')\"\n",
              "            title=\"Convert this dataframe to an interactive table.\"\n",
              "            style=\"display:none;\">\n",
              "\n",
              "  <svg xmlns=\"http://www.w3.org/2000/svg\" height=\"24px\" viewBox=\"0 -960 960 960\">\n",
              "    <path d=\"M120-120v-720h720v720H120Zm60-500h600v-160H180v160Zm220 220h160v-160H400v160Zm0 220h160v-160H400v160ZM180-400h160v-160H180v160Zm440 0h160v-160H620v160ZM180-180h160v-160H180v160Zm440 0h160v-160H620v160Z\"/>\n",
              "  </svg>\n",
              "    </button>\n",
              "\n",
              "  <style>\n",
              "    .colab-df-container {\n",
              "      display:flex;\n",
              "      gap: 12px;\n",
              "    }\n",
              "\n",
              "    .colab-df-convert {\n",
              "      background-color: #E8F0FE;\n",
              "      border: none;\n",
              "      border-radius: 50%;\n",
              "      cursor: pointer;\n",
              "      display: none;\n",
              "      fill: #1967D2;\n",
              "      height: 32px;\n",
              "      padding: 0 0 0 0;\n",
              "      width: 32px;\n",
              "    }\n",
              "\n",
              "    .colab-df-convert:hover {\n",
              "      background-color: #E2EBFA;\n",
              "      box-shadow: 0px 1px 2px rgba(60, 64, 67, 0.3), 0px 1px 3px 1px rgba(60, 64, 67, 0.15);\n",
              "      fill: #174EA6;\n",
              "    }\n",
              "\n",
              "    .colab-df-buttons div {\n",
              "      margin-bottom: 4px;\n",
              "    }\n",
              "\n",
              "    [theme=dark] .colab-df-convert {\n",
              "      background-color: #3B4455;\n",
              "      fill: #D2E3FC;\n",
              "    }\n",
              "\n",
              "    [theme=dark] .colab-df-convert:hover {\n",
              "      background-color: #434B5C;\n",
              "      box-shadow: 0px 1px 3px 1px rgba(0, 0, 0, 0.15);\n",
              "      filter: drop-shadow(0px 1px 2px rgba(0, 0, 0, 0.3));\n",
              "      fill: #FFFFFF;\n",
              "    }\n",
              "  </style>\n",
              "\n",
              "    <script>\n",
              "      const buttonEl =\n",
              "        document.querySelector('#df-f980fa53-9986-4cfa-b395-9a13de3e41c5 button.colab-df-convert');\n",
              "      buttonEl.style.display =\n",
              "        google.colab.kernel.accessAllowed ? 'block' : 'none';\n",
              "\n",
              "      async function convertToInteractive(key) {\n",
              "        const element = document.querySelector('#df-f980fa53-9986-4cfa-b395-9a13de3e41c5');\n",
              "        const dataTable =\n",
              "          await google.colab.kernel.invokeFunction('convertToInteractive',\n",
              "                                                    [key], {});\n",
              "        if (!dataTable) return;\n",
              "\n",
              "        const docLinkHtml = 'Like what you see? Visit the ' +\n",
              "          '<a target=\"_blank\" href=https://colab.research.google.com/notebooks/data_table.ipynb>data table notebook</a>'\n",
              "          + ' to learn more about interactive tables.';\n",
              "        element.innerHTML = '';\n",
              "        dataTable['output_type'] = 'display_data';\n",
              "        await google.colab.output.renderOutput(dataTable, element);\n",
              "        const docLink = document.createElement('div');\n",
              "        docLink.innerHTML = docLinkHtml;\n",
              "        element.appendChild(docLink);\n",
              "      }\n",
              "    </script>\n",
              "  </div>\n",
              "\n",
              "\n",
              "    <div id=\"df-fd691029-6261-4f8f-9d9a-5c13e07c515f\">\n",
              "      <button class=\"colab-df-quickchart\" onclick=\"quickchart('df-fd691029-6261-4f8f-9d9a-5c13e07c515f')\"\n",
              "                title=\"Suggest charts\"\n",
              "                style=\"display:none;\">\n",
              "\n",
              "<svg xmlns=\"http://www.w3.org/2000/svg\" height=\"24px\"viewBox=\"0 0 24 24\"\n",
              "     width=\"24px\">\n",
              "    <g>\n",
              "        <path d=\"M19 3H5c-1.1 0-2 .9-2 2v14c0 1.1.9 2 2 2h14c1.1 0 2-.9 2-2V5c0-1.1-.9-2-2-2zM9 17H7v-7h2v7zm4 0h-2V7h2v10zm4 0h-2v-4h2v4z\"/>\n",
              "    </g>\n",
              "</svg>\n",
              "      </button>\n",
              "\n",
              "<style>\n",
              "  .colab-df-quickchart {\n",
              "      --bg-color: #E8F0FE;\n",
              "      --fill-color: #1967D2;\n",
              "      --hover-bg-color: #E2EBFA;\n",
              "      --hover-fill-color: #174EA6;\n",
              "      --disabled-fill-color: #AAA;\n",
              "      --disabled-bg-color: #DDD;\n",
              "  }\n",
              "\n",
              "  [theme=dark] .colab-df-quickchart {\n",
              "      --bg-color: #3B4455;\n",
              "      --fill-color: #D2E3FC;\n",
              "      --hover-bg-color: #434B5C;\n",
              "      --hover-fill-color: #FFFFFF;\n",
              "      --disabled-bg-color: #3B4455;\n",
              "      --disabled-fill-color: #666;\n",
              "  }\n",
              "\n",
              "  .colab-df-quickchart {\n",
              "    background-color: var(--bg-color);\n",
              "    border: none;\n",
              "    border-radius: 50%;\n",
              "    cursor: pointer;\n",
              "    display: none;\n",
              "    fill: var(--fill-color);\n",
              "    height: 32px;\n",
              "    padding: 0;\n",
              "    width: 32px;\n",
              "  }\n",
              "\n",
              "  .colab-df-quickchart:hover {\n",
              "    background-color: var(--hover-bg-color);\n",
              "    box-shadow: 0 1px 2px rgba(60, 64, 67, 0.3), 0 1px 3px 1px rgba(60, 64, 67, 0.15);\n",
              "    fill: var(--button-hover-fill-color);\n",
              "  }\n",
              "\n",
              "  .colab-df-quickchart-complete:disabled,\n",
              "  .colab-df-quickchart-complete:disabled:hover {\n",
              "    background-color: var(--disabled-bg-color);\n",
              "    fill: var(--disabled-fill-color);\n",
              "    box-shadow: none;\n",
              "  }\n",
              "\n",
              "  .colab-df-spinner {\n",
              "    border: 2px solid var(--fill-color);\n",
              "    border-color: transparent;\n",
              "    border-bottom-color: var(--fill-color);\n",
              "    animation:\n",
              "      spin 1s steps(1) infinite;\n",
              "  }\n",
              "\n",
              "  @keyframes spin {\n",
              "    0% {\n",
              "      border-color: transparent;\n",
              "      border-bottom-color: var(--fill-color);\n",
              "      border-left-color: var(--fill-color);\n",
              "    }\n",
              "    20% {\n",
              "      border-color: transparent;\n",
              "      border-left-color: var(--fill-color);\n",
              "      border-top-color: var(--fill-color);\n",
              "    }\n",
              "    30% {\n",
              "      border-color: transparent;\n",
              "      border-left-color: var(--fill-color);\n",
              "      border-top-color: var(--fill-color);\n",
              "      border-right-color: var(--fill-color);\n",
              "    }\n",
              "    40% {\n",
              "      border-color: transparent;\n",
              "      border-right-color: var(--fill-color);\n",
              "      border-top-color: var(--fill-color);\n",
              "    }\n",
              "    60% {\n",
              "      border-color: transparent;\n",
              "      border-right-color: var(--fill-color);\n",
              "    }\n",
              "    80% {\n",
              "      border-color: transparent;\n",
              "      border-right-color: var(--fill-color);\n",
              "      border-bottom-color: var(--fill-color);\n",
              "    }\n",
              "    90% {\n",
              "      border-color: transparent;\n",
              "      border-bottom-color: var(--fill-color);\n",
              "    }\n",
              "  }\n",
              "</style>\n",
              "\n",
              "      <script>\n",
              "        async function quickchart(key) {\n",
              "          const quickchartButtonEl =\n",
              "            document.querySelector('#' + key + ' button');\n",
              "          quickchartButtonEl.disabled = true;  // To prevent multiple clicks.\n",
              "          quickchartButtonEl.classList.add('colab-df-spinner');\n",
              "          try {\n",
              "            const charts = await google.colab.kernel.invokeFunction(\n",
              "                'suggestCharts', [key], {});\n",
              "          } catch (error) {\n",
              "            console.error('Error during call to suggestCharts:', error);\n",
              "          }\n",
              "          quickchartButtonEl.classList.remove('colab-df-spinner');\n",
              "          quickchartButtonEl.classList.add('colab-df-quickchart-complete');\n",
              "        }\n",
              "        (() => {\n",
              "          let quickchartButtonEl =\n",
              "            document.querySelector('#df-fd691029-6261-4f8f-9d9a-5c13e07c515f button');\n",
              "          quickchartButtonEl.style.display =\n",
              "            google.colab.kernel.accessAllowed ? 'block' : 'none';\n",
              "        })();\n",
              "      </script>\n",
              "    </div>\n",
              "\n",
              "    </div>\n",
              "  </div>\n"
            ],
            "application/vnd.google.colaboratory.intrinsic+json": {
              "type": "dataframe",
              "variable_name": "data",
              "summary": "{\n  \"name\": \"data\",\n  \"rows\": 400,\n  \"fields\": [\n    {\n      \"column\": \"User ID\",\n      \"properties\": {\n        \"dtype\": \"number\",\n        \"std\": 71658,\n        \"min\": 15566689,\n        \"max\": 15815236,\n        \"num_unique_values\": 400,\n        \"samples\": [\n          15697424,\n          15609669,\n          15776733\n        ],\n        \"semantic_type\": \"\",\n        \"description\": \"\"\n      }\n    },\n    {\n      \"column\": \"Gender\",\n      \"properties\": {\n        \"dtype\": \"category\",\n        \"num_unique_values\": 2,\n        \"samples\": [\n          \"Female\",\n          \"Male\"\n        ],\n        \"semantic_type\": \"\",\n        \"description\": \"\"\n      }\n    },\n    {\n      \"column\": \"Age\",\n      \"properties\": {\n        \"dtype\": \"number\",\n        \"std\": 10,\n        \"min\": 18,\n        \"max\": 60,\n        \"num_unique_values\": 43,\n        \"samples\": [\n          50,\n          39\n        ],\n        \"semantic_type\": \"\",\n        \"description\": \"\"\n      }\n    },\n    {\n      \"column\": \"EstimatedSalary\",\n      \"properties\": {\n        \"dtype\": \"number\",\n        \"std\": 34096,\n        \"min\": 15000,\n        \"max\": 150000,\n        \"num_unique_values\": 117,\n        \"samples\": [\n          117000,\n          76000\n        ],\n        \"semantic_type\": \"\",\n        \"description\": \"\"\n      }\n    },\n    {\n      \"column\": \"Purchased\",\n      \"properties\": {\n        \"dtype\": \"number\",\n        \"std\": 0,\n        \"min\": 0,\n        \"max\": 1,\n        \"num_unique_values\": 2,\n        \"samples\": [\n          1,\n          0\n        ],\n        \"semantic_type\": \"\",\n        \"description\": \"\"\n      }\n    }\n  ]\n}"
            }
          },
          "metadata": {},
          "execution_count": 180
        }
      ]
    },
    {
      "cell_type": "code",
      "source": [
        "X = data.iloc[:,[2,3]].values\n",
        "y = data.iloc[:,-1:].values\n",
        "print(X.shape)\n",
        "print(y.shape)"
      ],
      "metadata": {
        "colab": {
          "base_uri": "https://localhost:8080/"
        },
        "id": "7bJmvS6WBd5Z",
        "outputId": "a2cb9bd4-8c5a-4577-f3b1-0967c67f136f"
      },
      "execution_count": null,
      "outputs": [
        {
          "output_type": "stream",
          "name": "stdout",
          "text": [
            "(400, 2)\n",
            "(400, 1)\n"
          ]
        }
      ]
    },
    {
      "cell_type": "code",
      "source": [
        "from sklearn.model_selection import train_test_split\n",
        "X_train, X_test, y_train, y_test = train_test_split(X, y, test_size = 0.2, random_state = 42)\n",
        "\n",
        "print(X_train.shape)\n",
        "print(X_test.shape)\n",
        "print(y_train.shape)\n",
        "print(y_test.shape)"
      ],
      "metadata": {
        "colab": {
          "base_uri": "https://localhost:8080/"
        },
        "id": "IKknHp-4BzhP",
        "outputId": "2dd2f882-4a32-419a-860e-725cdfb09e42"
      },
      "execution_count": null,
      "outputs": [
        {
          "output_type": "stream",
          "name": "stdout",
          "text": [
            "(320, 2)\n",
            "(80, 2)\n",
            "(320, 1)\n",
            "(80, 1)\n"
          ]
        }
      ]
    },
    {
      "cell_type": "code",
      "source": [
        "X_max = X_train.max(axis = 0, keepdims = True)\n",
        "X_min = X_train.min(axis = 0, keepdims = True)\n",
        "X_train = (X_train - X_min)/(X_max - X_min)\n",
        "X_test_sacled = (X_test - X_min)/(X_max - X_min)"
      ],
      "metadata": {
        "id": "gchg-Z4uCFwX"
      },
      "execution_count": null,
      "outputs": []
    },
    {
      "cell_type": "markdown",
      "source": [],
      "metadata": {
        "id": "-r-3AGSzK090"
      }
    },
    {
      "cell_type": "code",
      "source": [
        "#sigmoid function\n",
        "g = lambda z : np.exp(z) /( 1 + np.exp(z))\n",
        "\n",
        "def predict_prob(X,w):\n",
        "  z = np.dot(X,w.T)\n",
        "  return g(z)\n",
        "\n",
        "def predict(X,w):\n",
        "  y_hat = predict_prob(X,w)\n",
        "  y_hat[y_hat >= 0.5] = 1\n",
        "  y_hat[y_hat < 0.5] = 0\n",
        "  return y_hat"
      ],
      "metadata": {
        "id": "up31Ve0zJoIP"
      },
      "execution_count": null,
      "outputs": []
    },
    {
      "cell_type": "code",
      "source": [
        "# loss function\n",
        "def loss(X,y,w):\n",
        "  y_hat = predict_prob(X,w)\n",
        "  l = y*np.log(y_hat) + (1-y)*np.log(1-y_hat)\n",
        "  return -np.mean(l)"
      ],
      "metadata": {
        "id": "LpcxRBnkDSpN"
      },
      "execution_count": null,
      "outputs": []
    },
    {
      "cell_type": "code",
      "source": [
        "#gradient\n",
        "def grad(X,y,w):\n",
        "  y_hat = predict_prob(X,w)\n",
        "  delta = y_hat - y\n",
        "  dw = np.dot(X.T,delta)\n",
        "  return dw.T\n"
      ],
      "metadata": {
        "id": "rIwvbGJ8Di_0"
      },
      "execution_count": null,
      "outputs": []
    },
    {
      "cell_type": "code",
      "source": [
        "def gradient_desscent(X,y,lr = 0.02,epochs = 1000):\n",
        "  w = np.zeros((1,X.shape[1]))\n",
        "  losses = []\n",
        "  for i in range(epochs):\n",
        "   dw = grad(X,y,w)\n",
        "   w  -= lr*dw\n",
        "   losses.append(loss(X,y,w))\n",
        "  return losses,w\n"
      ],
      "metadata": {
        "id": "nMKcn0rbD37d"
      },
      "execution_count": null,
      "outputs": []
    },
    {
      "cell_type": "markdown",
      "source": [
        "BT1:Dự đoán khả năng mua hàng trên tập test và so sánh dự báo với giá trị thực tế bằng các thước đo ACCURACY,RECALL,PRECISION.\n"
      ],
      "metadata": {
        "id": "7Lkk1LJ7HMVD"
      }
    },
    {
      "cell_type": "code",
      "source": [
        "from sklearn.metrics import accuracy_score, precision_score, recall_score\n",
        "\n",
        "losses, w = gradient_desscent(X_train, y_train, lr=0.02, epochs=1000)\n",
        "\n",
        "plt.plot(losses)\n",
        "plt.xlabel(\"Epoch\"); plt.ylabel(\"Log‑loss\"); plt.title(\"Training loss\"); plt.show()\n",
        "\n",
        "\n",
        "y_pred = predict(X_test_sacled, w).ravel().astype(int)   # chuyển thành 1‑D vector int\n",
        "y_true = y_test.ravel().astype(int)\n",
        "\n",
        "# 3) Tính các thước đo\n",
        "print(\"Accuracy :\", accuracy_score(y_true, y_pred))\n",
        "print(\"Precision:\", precision_score(y_true, y_pred))\n",
        "print(\"Recall   :\", recall_score(y_true, y_pred))\n"
      ],
      "metadata": {
        "colab": {
          "base_uri": "https://localhost:8080/",
          "height": 524
        },
        "id": "N4jRTCy0Jyxx",
        "outputId": "595be86d-568d-4ea6-9b62-d0737c272636"
      },
      "execution_count": null,
      "outputs": [
        {
          "output_type": "display_data",
          "data": {
            "text/plain": [
              "<Figure size 640x480 with 1 Axes>"
            ],
            "image/png": "[encoded data removed]"
          },
          "metadata": {}
        },
        {
          "output_type": "stream",
          "name": "stdout",
          "text": [
            "Accuracy : 0.65\n",
            "Precision: 0.5\n",
            "Recall   : 0.5714285714285714\n"
          ]
        }
      ]
    },
    {
      "cell_type": "markdown",
      "source": [
        "BT2Viết lại mã Python cho mô hình hồi quy logistic dưới dạng một lớp (class) tên LogisticRegression1.\n"
      ],
      "metadata": {
        "id": "HRjNaPEhLEAm"
      }
    },
    {
      "cell_type": "code",
      "source": [
        "import numpy as np\n",
        "\n",
        "class LogisticRegression1:\n",
        "    def __init__(self, lr=0.02, epochs=5000):\n",
        "        self.lr = lr\n",
        "        self.epochs = epochs\n",
        "        self.w = None\n",
        "        self.losses = []\n",
        "        self.X_min = None\n",
        "        self.X_max = None\n",
        "\n",
        "    def _sigmoid(self, z):\n",
        "        return np.exp(z) / (1 + np.exp(z))\n",
        "\n",
        "    def predict_prob(self, X):\n",
        "        z = np.dot(X, self.w.T)  # w: (1,n), X: (m,n)\n",
        "        return self._sigmoid(z)\n",
        "\n",
        "    def predict(self, X):\n",
        "        y_hat = self.predict_prob(X)\n",
        "        y_hat[y_hat >= 0.5] = 1\n",
        "        y_hat[y_hat < 0.5] = 0\n",
        "        return y_hat.astype(int)\n",
        "\n",
        "    def loss(self, X, y):\n",
        "        y_hat = self.predict_prob(X)\n",
        "        eps = 1e-15\n",
        "        l = y * np.log(y_hat + eps) + (1 - y) * np.log(1 - y_hat + eps)\n",
        "        return -np.mean(l)\n",
        "\n",
        "    def grad(self, X, y):\n",
        "        y_hat = self.predict_prob(X)\n",
        "        delta = y_hat - y\n",
        "        dw = np.dot(X.T, delta)   # shape (n,1)\n",
        "        return dw.T  # để cộng được với w: (1,n)\n",
        "\n",
        "    def fit(self, X_train, y_train):\n",
        "        # Min-max scale\n",
        "        self.X_min = X_train.min(axis=0, keepdims=True)\n",
        "        self.X_max = X_train.max(axis=0, keepdims=True)\n",
        "        X_scaled = (X_train - self.X_min) / (self.X_max - self.X_min + 1e-8)\n",
        "\n",
        "        y = y_train.reshape(-1, 1)\n",
        "        self.w = np.zeros((1, X_scaled.shape[1]))  # shape (1,n)\n",
        "\n",
        "        for _ in range(self.epochs):\n",
        "            dw = self.grad(X_scaled, y)\n",
        "            self.w -= self.lr * dw\n",
        "            self.losses.append(self.loss(X_scaled, y))\n",
        "\n",
        "    def predict_scaled(self, X, X_min, X_max):\n",
        "        X_scaled = (X - X_min) / (X_max - X_min + 1e-8)\n",
        "        return self.predict(X_scaled)\n",
        "import pandas as pd\n",
        "import matplotlib.pyplot as plt\n",
        "from sklearn.model_selection import train_test_split\n",
        "from sklearn.metrics import accuracy_score, precision_score, recall_score\n",
        "\n",
        "# Load dữ liệu\n",
        "data = pd.read_csv(\"Social_Network_Ads.csv\")\n",
        "X = data.iloc[:, [2, 3]].values\n",
        "y = data.iloc[:, -1:].values\n",
        "\n",
        "# Tách tập train/test\n",
        "X_train, X_test, y_train, y_test = train_test_split(\n",
        "    X, y, test_size=0.2, random_state=42)\n",
        "\n",
        "# Khởi tạo và huấn luyện\n",
        "model = LogisticRegression1(lr=0.02, epochs=1000)\n",
        "model.fit(X_train, y_train)\n",
        "\n",
        "# Vẽ log-loss\n",
        "plt.plot(model.losses)\n",
        "plt.xlabel(\"Epoch\");\n",
        "plt.ylabel(\"Log-loss\");\n",
        "plt.title(\"Training Loss\");\n",
        "plt.show()\n",
        "\n",
        "# Dự đoán\n",
        "y_pred = model.predict_scaled(X_test, model.X_min, model.X_max).ravel()\n",
        "y_true = y_test.ravel()\n",
        "\n",
        "# Đánh giá\n",
        "print(\"Accuracy :\", accuracy_score(y_true, y_pred))\n",
        "print(\"Precision:\", precision_score(y_true, y_pred))\n",
        "print(\"Recall   :\", recall_score(y_true, y_pred))\n"
      ],
      "metadata": {
        "colab": {
          "base_uri": "https://localhost:8080/",
          "height": 524
        },
        "id": "bD1jiqgQLMWl",
        "outputId": "195cce52-efbf-4298-d267-b9a8f6113d39"
      },
      "execution_count": null,
      "outputs": [
        {
          "output_type": "display_data",
          "data": {
            "text/plain": [
              "<Figure size 640x480 with 1 Axes>"
            ],
            "image/png": "[encoded data removed]"
          },
          "metadata": {}
        },
        {
          "output_type": "stream",
          "name": "stdout",
          "text": [
            "Accuracy : 0.65\n",
            "Precision: 0.5\n",
            "Recall   : 0.5714285714285714\n"
          ]
        }
      ]
    },
    {
      "cell_type": "markdown",
      "source": [
        "Bài 3 : thêm bias và đánh giá mô hình\n"
      ],
      "metadata": {
        "id": "wn7JviURizRQ"
      }
    },
    {
      "cell_type": "code",
      "source": [
        "import numpy as np\n",
        "\n",
        "class LogisticRegression1:\n",
        "    def __init__(self, lr=0.02, epochs=5000):\n",
        "        self.lr = lr\n",
        "        self.epochs = epochs\n",
        "        self.w = None\n",
        "        self.losses = []\n",
        "        self.X_min = None\n",
        "        self.X_max = None\n",
        "\n",
        "    def _sigmoid(self, z):\n",
        "        return np.exp(z) / (1 + np.exp(z))\n",
        "\n",
        "    def predict_prob(self, X):\n",
        "        z = np.dot(X, self.w.T)\n",
        "        return self._sigmoid(z)\n",
        "\n",
        "    def predict(self, X):\n",
        "        y_hat = self.predict_prob(X)\n",
        "        y_hat[y_hat >= 0.5] = 1\n",
        "        y_hat[y_hat <  0.5] = 0\n",
        "        return y_hat.astype(int)\n",
        "\n",
        "    def loss(self, X, y):\n",
        "        y_hat = self.predict_prob(X)\n",
        "        eps = 1e-15\n",
        "        l = y * np.log(y_hat + eps) + (1 - y) * np.log(1 - y_hat + eps)\n",
        "        return -np.mean(l)\n",
        "\n",
        "    def grad(self, X, y):\n",
        "        y_hat = self.predict_prob(X)\n",
        "        delta = y_hat - y\n",
        "        dw = np.dot(X.T, delta)\n",
        "        return dw.T\n",
        "\n",
        "    def fit(self, X_train, y_train):\n",
        "        self.X_min = X_train.min(axis=0, keepdims=True)\n",
        "        self.X_max = X_train.max(axis=0, keepdims=True)\n",
        "        X_scaled = (X_train - self.X_min) / (self.X_max - self.X_min + 1e-8)\n",
        "\n",
        "        # Thêm cột bias\n",
        "        X_scaled = np.hstack([np.ones((X_scaled.shape[0], 1)), X_scaled])\n",
        "\n",
        "        y = y_train.reshape(-1, 1)\n",
        "        self.w = np.zeros((1, X_scaled.shape[1]))\n",
        "\n",
        "        for _ in range(self.epochs):\n",
        "            dw = self.grad(X_scaled, y)\n",
        "            self.w -= self.lr * dw\n",
        "            self.losses.append(self.loss(X_scaled, y))\n",
        "\n",
        "    def predict_scaled(self, X, X_min, X_max):\n",
        "        X_scaled = (X - X_min) / (X_max - X_min + 1e-8)\n",
        "        # Thêm cột bias\n",
        "        X_scaled = np.hstack([np.ones((X_scaled.shape[0], 1)), X_scaled])\n",
        "\n",
        "        return self.predict(X_scaled)\n",
        "import pandas as pd\n",
        "import matplotlib.pyplot as plt\n",
        "from sklearn.model_selection import train_test_split\n",
        "from sklearn.metrics import accuracy_score, precision_score, recall_score\n",
        "\n",
        "# Load dữ liệu\n",
        "data = pd.read_csv(\"Social_Network_Ads.csv\")\n",
        "X = data.iloc[:, [2, 3]].values\n",
        "y = data.iloc[:, -1:].values\n",
        "\n",
        "# Tách tập train/test\n",
        "X_train, X_test, y_train, y_test = train_test_split(\n",
        "    X, y, test_size=0.2, random_state=42)\n",
        "\n",
        "# Khởi tạo và huấn luyện\n",
        "model = LogisticRegression1(lr=0.02, epochs=1000)\n",
        "model.fit(X_train, y_train)\n",
        "\n",
        "# Vẽ log-loss\n",
        "plt.plot(model.losses)\n",
        "plt.xlabel(\"Epoch\");\n",
        "plt.ylabel(\"Log-loss\");\n",
        "plt.title(\"Training Loss\");\n",
        "plt.show()\n",
        "\n",
        "# Dự đoán\n",
        "y_pred = model.predict_scaled(X_test, model.X_min, model.X_max).ravel()\n",
        "y_true = y_test.ravel()\n",
        "\n",
        "# Đánh giá\n",
        "print(\"Accuracy :\", accuracy_score(y_true, y_pred))\n",
        "print(\"Precision:\", precision_score(y_true, y_pred))\n",
        "print(\"Recall   :\", recall_score(y_true, y_pred))\n"
      ],
      "metadata": {
        "colab": {
          "base_uri": "https://localhost:8080/",
          "height": 524
        },
        "id": "xSiJSxV4i390",
        "outputId": "89e291c4-9db2-499e-cedf-1fb26b76a486"
      },
      "execution_count": null,
      "outputs": [
        {
          "output_type": "display_data",
          "data": {
            "text/plain": [
              "<Figure size 640x480 with 1 Axes>"
            ],
            "image/png": "[encoded data removed]"
          },
          "metadata": {}
        },
        {
          "output_type": "stream",
          "name": "stdout",
          "text": [
            "Accuracy : 0.8875\n",
            "Precision: 0.9130434782608695\n",
            "Recall   : 0.75\n"
          ]
        }
      ]
    }
  ]
}